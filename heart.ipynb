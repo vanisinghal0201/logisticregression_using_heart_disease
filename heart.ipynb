{
  "nbformat": 4,
  "nbformat_minor": 0,
  "metadata": {
    "colab": {
      "name": "Untitled1.ipynb",
      "provenance": [],
      "authorship_tag": "ABX9TyNW2XNjTuZFTJhLhBGoxmAy",
      "include_colab_link": true
    },
    "kernelspec": {
      "name": "python3",
      "display_name": "Python 3"
    }
  },
  "cells": [
    {
      "cell_type": "markdown",
      "metadata": {
        "id": "view-in-github",
        "colab_type": "text"
      },
      "source": [
        "<a href=\"https://colab.research.google.com/github/vanisinghal0201/logisticregression_using_heart_disease/blob/master/heart.ipynb\" target=\"_parent\"><img src=\"https://colab.research.google.com/assets/colab-badge.svg\" alt=\"Open In Colab\"/></a>"
      ]
    },
    {
      "cell_type": "code",
      "metadata": {
        "id": "9gj4n3UWfM87",
        "colab_type": "code",
        "colab": {
          "base_uri": "https://localhost:8080/",
          "height": 558
        },
        "outputId": "96c49292-0bfb-4f7c-f170-4fb515a96b9f"
      },
      "source": [
        "import pandas as pd\n",
        "import numpy as np\n",
        "from sklearn.model_selection import train_test_split\n",
        "from sklearn.linear_model import LogisticRegression\n",
        "import matplotlib.pyplot as plt\n",
        "df=pd.read_csv(\"heart.csv\")\n",
        "\n",
        "df=df.dropna()\n",
        "X=df.drop([\"TenYearCHD\",\"currentSmoker\",\"BPMeds\",\"prevalentStroke\",\"prevalentHyp\",\"diabetes\",\"education\",\"glucose\",\"diaBP\",\"totChol\"],axis=1).values\n",
        "y=df[\"TenYearCHD\"].values\n",
        "\"\"\"from sklearn.ensemble import ExtraTreesClassifier   //for finding the importance of features\n",
        "import matplotlib.pyplot as plt\n",
        "model = ExtraTreesClassifier()\n",
        "model.fit(X,y)\n",
        "print(model.feature_importances_)\"\"\"\n",
        "\n",
        "\n",
        "X_train,X_test,y_train,y_test=train_test_split(X,y,test_size=0.236,random_state=42)\n",
        "log=LogisticRegression()\n",
        "log.fit(X_train,y_train)\n",
        "y_pred=log.predict(X_test)\n",
        "print(\"Accuracy is-\",log.score(X_test,y_test))\n",
        "ar=log.predict_proba(X_test)[:,1]\n",
        "c1=0\n",
        "c2=0\n",
        "c3=0\n",
        "c4=0\n",
        "for i in range(862):\n",
        "  if X_test[:,0][i]==1. and y_pred[i]==1:\n",
        "    c1+=1\n",
        "  elif X_test[:,0][i]==1. and y_pred[i]==0:\n",
        "    c3+=1\n",
        "  elif X_test[:,0][i]==0. and y_pred[i]==1:\n",
        "    c2+=1\n",
        "  else:\n",
        "    c4+=1\n",
        "cigh=0\n",
        "cignh=0\n",
        "for i in range(862):\n",
        "  if y_test[i]==1:\n",
        "    cigh+=X_test[:,2][i]\n",
        "  elif y_test[i]==0:\n",
        "    cignh+=X_test[:,2][i]\n",
        "plt.bar([\"heart\",\"notheart\"],[cigh,cignh])\n",
        "plt.xlabel(\"has heart disease or not\")\n",
        "plt.ylabel(\"no. of cigars per day\")\n",
        "plt.show()\n",
        "barWidth = 0.25\n",
        " \n",
        "# set height of bar\n",
        "bars1 = [c1, c2]\n",
        "bars2 = [c3, c4]\n",
        " \n",
        "# Set position of bar on X axis\n",
        "r1 = np.arange(len(bars1))\n",
        "r2 = [x + barWidth for x in r1]\n",
        " \n",
        "# Make the plot\n",
        "plt.bar(r1, bars1, color='#7f6d5f', width=barWidth, edgecolor='white', label='heart')\n",
        "plt.bar(r2, bars2, color='#557f2d', width=barWidth, edgecolor='white', label='noheart')\n",
        " \n",
        "# Add xticks on the middle of the group bars\n",
        "plt.xlabel('Gender', fontweight='bold')\n",
        "plt.xticks([r + barWidth for r in range(len(bars1))], [\"male\",\"female\"])\n",
        " \n",
        "# Create legend & Show graphic\n",
        "plt.legend()\n",
        "plt.show()\n",
        "\n",
        "\n",
        "\n"
      ],
      "execution_count": 16,
      "outputs": [
        {
          "output_type": "stream",
          "text": [
            "Accuracy is- 0.8458864426419467\n"
          ],
          "name": "stdout"
        },
        {
          "output_type": "display_data",
          "data": {
            "image/png": "[encoded data removed]",
            "text/plain": [
              "<Figure size 432x288 with 1 Axes>"
            ]
          },
          "metadata": {
            "tags": [],
            "needs_background": "light"
          }
        },
        {
          "output_type": "display_data",
          "data": {
            "image/png": "[encoded data removed]",
            "text/plain": [
              "<Figure size 432x288 with 1 Axes>"
            ]
          },
          "metadata": {
            "tags": [],
            "needs_background": "light"
          }
        }
      ]
    }
  ]
}